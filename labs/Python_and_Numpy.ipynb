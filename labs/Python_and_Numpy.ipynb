{
 "cells": [
  {
   "cell_type": "markdown",
   "metadata": {},
   "source": [
    "# Python and Numpy Lab"
   ]
  },
  {
   "cell_type": "markdown",
   "metadata": {},
   "source": [
    "The popularity of Python can be attributed to its flexibility and the large number of open source packages that enhance its capabilities.  Here, we will practice some basic Python and get familiar with Numpy.  "
   ]
  },
  {
   "cell_type": "markdown",
   "metadata": {},
   "source": [
    "Python itself is a general purpose coding language that is easy to learn.  Readability and clarity are central tenets of writing good Python code, and the language is reliable and stable.  However, it is often criticized as being \"slow,\" which is true when compared lower level languages like C, for instance.  For large numerical calculations, this limitation on core Python can be a restriction.  Therefore, Numpy, a library that actually implements numerical operations in C, is often used instead to offer a speed-up and recover much of the performance... plus the syntax is actually simpler.  The primary goal of this lab is to get comfortable using Python, but we also want to demonstrate how useful Numpy is in accelerating your analyses.  We've included the ``%%time`` cell magic where needed to measure the time to execute your cells of code."
   ]
  },
  {
   "cell_type": "markdown",
   "metadata": {},
   "source": [
    "Let's begin by exploring how variables are assigned, in particular how values are cast as ``int`` or ``float`` since they behave differently.  First, let's make some variables.  Let's make two ``int`` values named ``a`` and ``b``, and two ``float`` values named ``c`` and ``d``."
   ]
  },
  {
   "cell_type": "markdown",
   "metadata": {},
   "source": [
    "### Basic Python"
   ]
  },
  {
   "cell_type": "code",
   "execution_count": 9,
   "metadata": {},
   "outputs": [
    {
     "name": "stdout",
     "output_type": "stream",
     "text": [
      "a+b = 9\n",
      "9\n",
      "9.95\n",
      "9.95\n"
     ]
    }
   ],
   "source": [
    "a = 4\n",
    "b = 5\n",
    "\n",
    "c = 3.45\n",
    "d = 6.5\n",
    "e = 6.50\n",
    "print ('a+b =', a+b)\n",
    "print (a+b)\n",
    "print (c+d)\n",
    "print (c+e)"
   ]
  },
  {
   "cell_type": "markdown",
   "metadata": {},
   "source": [
    "Print ``a+b`` and ``c+d``."
   ]
  },
  {
   "cell_type": "code",
   "execution_count": 11,
   "metadata": {},
   "outputs": [
    {
     "ename": "SyntaxError",
     "evalue": "invalid syntax (<ipython-input-11-4e1a73a21d97>, line 1)",
     "output_type": "error",
     "traceback": [
      "\u001b[0;36m  File \u001b[0;32m\"<ipython-input-11-4e1a73a21d97>\"\u001b[0;36m, line \u001b[0;32m1\u001b[0m\n\u001b[0;31m    print (`a+b`)\u001b[0m\n\u001b[0m           ^\u001b[0m\n\u001b[0;31mSyntaxError\u001b[0m\u001b[0;31m:\u001b[0m invalid syntax\n"
     ]
    }
   ],
   "source": [
    "print (`a+b`)"
   ]
  },
  {
   "cell_type": "markdown",
   "metadata": {},
   "source": [
    "Now, let's divide these same numbers."
   ]
  },
  {
   "cell_type": "code",
   "execution_count": 13,
   "metadata": {},
   "outputs": [
    {
     "name": "stdout",
     "output_type": "stream",
     "text": [
      "a/b = 0.8\n",
      "a*b = 20\n",
      "c+d = 9.95\n",
      "9.95\n"
     ]
    }
   ],
   "source": [
    "a = 4\n",
    "b = 5\n",
    "\n",
    "c = 3.45\n",
    "d = 6.5\n",
    "e = 6.50\n",
    "print ('a/b =', a/b)\n",
    "print ('a*b =', a*b)\n",
    "print ('c+d =',c+d)\n",
    "print (c+e)"
   ]
  },
  {
   "cell_type": "markdown",
   "metadata": {},
   "source": [
    "Let's practice working with dictionaries by storing these values with their name as the key and then retrieving them."
   ]
  },
  {
   "cell_type": "code",
   "execution_count": 21,
   "metadata": {},
   "outputs": [
    {
     "name": "stdout",
     "output_type": "stream",
     "text": [
      "Four\n"
     ]
    },
    {
     "data": {
      "text/plain": [
       "dict_items([('i1', 'One'), ('i2', 'Two'), ('i3', 'Three'), ('i4', 'Four')])"
      ]
     },
     "execution_count": 21,
     "metadata": {},
     "output_type": "execute_result"
    }
   ],
   "source": [
    "# store values here\n",
    "\n",
    "my_dict = {'i1':'One','i2':'Two','i3':'Three','i4':'Four'}\n",
    "i4 = my_dict['i4']\n",
    "print(i4)\n",
    "my_dict.items()"
   ]
  },
  {
   "cell_type": "code",
   "execution_count": 16,
   "metadata": {},
   "outputs": [
    {
     "ename": "NameError",
     "evalue": "name 'my_dict' is not defined",
     "output_type": "error",
     "traceback": [
      "\u001b[0;31m---------------------------------------------------------------------------\u001b[0m",
      "\u001b[0;31mNameError\u001b[0m                                 Traceback (most recent call last)",
      "\u001b[0;32m<ipython-input-16-91351a7e603d>\u001b[0m in \u001b[0;36m<module>\u001b[0;34m\u001b[0m\n\u001b[1;32m      1\u001b[0m \u001b[0;31m# retrieve values here\u001b[0m\u001b[0;34m\u001b[0m\u001b[0;34m\u001b[0m\u001b[0;34m\u001b[0m\u001b[0m\n\u001b[0;32m----> 2\u001b[0;31m \u001b[0mi4\u001b[0m \u001b[0;34m=\u001b[0m \u001b[0mmy_dict\u001b[0m\u001b[0;34m[\u001b[0m\u001b[0;34m'4'\u001b[0m\u001b[0;34m]\u001b[0m\u001b[0;34m\u001b[0m\u001b[0;34m\u001b[0m\u001b[0m\n\u001b[0m",
      "\u001b[0;31mNameError\u001b[0m: name 'my_dict' is not defined"
     ]
    }
   ],
   "source": [
    "# retrieve values here\n",
    "i4 = my_dict['4']"
   ]
  },
  {
   "cell_type": "markdown",
   "metadata": {},
   "source": [
    "### Python Loops"
   ]
  },
  {
   "cell_type": "markdown",
   "metadata": {},
   "source": [
    "These have been simple calculations and in real application we have to process much more than a few numbers at a time.  We've created an array of \"data\" for you to process.  Create a for loop to iterate through the list that multiplies it by 2 and subtracts 3.  Save it to the empty list (``proc_data``) using ``.append()``.  To check that it is working as it should, look at the first 5 entries.  The ``%%time`` magic will time the cell execution."
   ]
  },
  {
   "cell_type": "code",
   "execution_count": 47,
   "metadata": {},
   "outputs": [
    {
     "name": "stdout",
     "output_type": "stream",
     "text": [
      "0\n",
      "-3\n",
      "['apple', 'banana', 'cherry', '9']\n",
      "------\n",
      "2\n",
      "-2\n",
      "['apple', 'banana', 'cherry', '9', '9']\n",
      "------\n",
      "4\n",
      "-1\n",
      "['apple', 'banana', 'cherry', '9', '9', '9']\n",
      "------\n",
      "6\n",
      "0\n",
      "['apple', 'banana', 'cherry', '9', '9', '9', '9']\n",
      "------\n",
      "8\n",
      "1\n",
      "['apple', 'banana', 'cherry', '9', '9', '9', '9', '9']\n",
      "------\n",
      "10\n",
      "2\n",
      "['apple', 'banana', 'cherry', '9', '9', '9', '9', '9', '9']\n",
      "------\n",
      "CPU times: user 807 µs, sys: 136 µs, total: 943 µs\n",
      "Wall time: 567 µs\n"
     ]
    }
   ],
   "source": [
    "%%time\n",
    "\n",
    "data = range(6)\n",
    "proc_data = []\n",
    "strdata = ['apple', 'banana', 'cherry']\n",
    "#fruits.append(\"orange\")\n",
    "for i in data:\n",
    "    proc_data = i*2\n",
    "    print(proc_data)\n",
    "\n",
    "    proc_data = i-3\n",
    "    print(proc_data)\n",
    "    strdata.append('9');\n",
    "    print(strdata)\n",
    "    print('------')\n",
    "    \n",
    "# Your code goes here"
   ]
  },
  {
   "cell_type": "markdown",
   "metadata": {},
   "source": [
    "### Numpy Calculations"
   ]
  },
  {
   "cell_type": "markdown",
   "metadata": {},
   "source": [
    "How does Numpy compare?  First, import the module."
   ]
  },
  {
   "cell_type": "code",
   "execution_count": null,
   "metadata": {},
   "outputs": [],
   "source": [
    "import numpy as np"
   ]
  },
  {
   "cell_type": "markdown",
   "metadata": {},
   "source": [
    "Now, do the same operation as before (hint it only takes one short line of code). Again, print the first 5 entries and checkout the time to see the speed-up."
   ]
  },
  {
   "cell_type": "code",
   "execution_count": 53,
   "metadata": {},
   "outputs": [
    {
     "name": "stdout",
     "output_type": "stream",
     "text": [
      "[0 1 2 3 4 5]\n"
     ]
    }
   ],
   "source": [
    "import numpy as np\n",
    "\n",
    "data = np.arange(6)\n",
    "print(data)\n",
    "# Your code goes here"
   ]
  },
  {
   "cell_type": "markdown",
   "metadata": {},
   "source": [
    "### Slicing and Masking Numpy Arrays "
   ]
  },
  {
   "cell_type": "markdown",
   "metadata": {},
   "source": [
    "Being able to manipulate and extract data from Numpy arrays is an important skill for effectively doing analysis in Python.  Let's consider the following 2D array, initialized to:"
   ]
  },
  {
   "cell_type": "code",
   "execution_count": 92,
   "metadata": {},
   "outputs": [
    {
     "name": "stdout",
     "output_type": "stream",
     "text": [
      "[[0.43249474 0.04548082 0.38249116 0.24703799 0.42809895]\n",
      " [0.90598317 0.71182877 0.58902317 0.74005154 0.8705758 ]\n",
      " [0.71369843 0.51760861 0.9191388  0.96691854 0.65837104]\n",
      " [0.15865303 0.51550533 0.8602662  0.48891993 0.45272948]\n",
      " [0.20347077 0.66426669 0.96736087 0.76167716 0.0092583 ]]\n",
      "first_element 0.9191388048940535\n",
      "----------------------------------\n",
      "first_row [0.43249474 0.04548082 0.38249116 0.24703799 0.42809895]\n",
      "----------------------------------\n",
      "minus [[0.15865303 0.51550533 0.8602662  0.48891993 0.45272948]\n",
      " [0.20347077 0.66426669 0.96736087 0.76167716 0.0092583 ]]\n",
      "----------------------------------\n",
      "[0.90598317 0.71182877 0.58902317 0.74005154 0.8705758  0.71369843\n",
      " 0.51760861 0.9191388  0.96691854 0.65837104 0.51550533 0.8602662\n",
      " 0.66426669 0.96736087 0.76167716]\n"
     ]
    }
   ],
   "source": [
    "array = np\n",
    "array = np.random.rand(5,5)\n",
    "print(array)\n",
    "first_element = array[2,2]\n",
    "minus = array[-2:]\n",
    "first_row = array[0]\n",
    "print('first_element',first_element)\n",
    "print('----------------------------------')\n",
    "print('first_row',first_row)\n",
    "print('----------------------------------')\n",
    "print('minus',minus)\n",
    "print('----------------------------------')\n",
    "mask = 0.5\n",
    "masked_array = array[array>0.5]\n",
    "print(masked_array)"
   ]
  },
  {
   "cell_type": "markdown",
   "metadata": {},
   "source": [
    "Let's pull out the first element of the array:"
   ]
  },
  {
   "cell_type": "code",
   "execution_count": 91,
   "metadata": {},
   "outputs": [
    {
     "ename": "SyntaxError",
     "evalue": "invalid syntax (<ipython-input-91-6de4e3f3bd43>, line 1)",
     "output_type": "error",
     "traceback": [
      "\u001b[0;36m  File \u001b[0;32m\"<ipython-input-91-6de4e3f3bd43>\"\u001b[0;36m, line \u001b[0;32m1\u001b[0m\n\u001b[0;31m    first_element = # get first element\u001b[0m\n\u001b[0m                                       ^\u001b[0m\n\u001b[0;31mSyntaxError\u001b[0m\u001b[0;31m:\u001b[0m invalid syntax\n"
     ]
    }
   ],
   "source": [
    "first_element = # get first element"
   ]
  },
  {
   "cell_type": "markdown",
   "metadata": {},
   "source": [
    "What is the first row?"
   ]
  },
  {
   "cell_type": "code",
   "execution_count": null,
   "metadata": {},
   "outputs": [],
   "source": [
    "first_row = # get first row"
   ]
  },
  {
   "cell_type": "markdown",
   "metadata": {},
   "source": [
    "Let's finish by filtering out all values less than 0.5.  First, define a \"mask\" to the array.  Then, filter the values by applying the mask to ``array``."
   ]
  },
  {
   "cell_type": "code",
   "execution_count": null,
   "metadata": {},
   "outputs": [],
   "source": [
    "mask = # make mask\n",
    "masked_array = # mask array\n",
    "print(masked_array)"
   ]
  },
  {
   "cell_type": "code",
   "execution_count": null,
   "metadata": {},
   "outputs": [],
   "source": []
  }
 ],
 "metadata": {
  "kernelspec": {
   "display_name": "Python 3",
   "language": "python",
   "name": "python3"
  },
  "language_info": {
   "codemirror_mode": {
    "name": "ipython",
    "version": 3
   },
   "file_extension": ".py",
   "mimetype": "text/x-python",
   "name": "python",
   "nbconvert_exporter": "python",
   "pygments_lexer": "ipython3",
   "version": "3.6.8"
  }
 },
 "nbformat": 4,
 "nbformat_minor": 2
}
