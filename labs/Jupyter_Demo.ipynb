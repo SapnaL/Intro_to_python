{
 "cells": [
  {
   "cell_type": "markdown",
   "metadata": {},
   "source": [
    "# Jupyter Notebook Demo - Test SLinus\n",
    "\n",
    "\n",
    "![Alt text](../data/jupyter.png)"
   ]
  },
  {
   "cell_type": "markdown",
   "metadata": {},
   "source": [
    "Welcome to your first Jupyter notebook, Sapna!  These notebooks make developing code, documenting your process, and sharing your results easy.  The key feature here is that you can write your code iteratively and jot down notes as you progress.  Additionally, when you have a finished project, you can use the same text capabilities to develop a narrative around what you are doing and what your results mean, all distributed within the code that produces your results.  As you can see, elements are contained within \"cells,\" which make up the building blocks of the notebooks.  You can run all of them at once, in sections, or individually.  Press ``Shift+Enter`` to individually run cells and also look at the options in the \"Cell\" drop down menu above."
   ]
  },
  {
   "cell_type": "markdown",
   "metadata": {},
   "source": [
    "As we go forward, feel free to check out the styling of each cell and experiment with all of the different aspects (for instance what happens if you add additional ``#``'s to the title?).  Double click this sentence and see what happens. "
   ]
  },
  {
   "cell_type": "markdown",
   "metadata": {},
   "source": [
    "You will find two types of cells in the Notebook.  First are \"markdown cells,\" like this one.  They contain the text you can write to describe what you are doing or any other text that could be valuable.  Second are \"code cells,\" like the one below which will execute your Python code.  Press ``Shift+Enter`` to see what it does.  If you are unsure if a code block has been run, look to the left of the cell.  This will not only tell you if it has been executed, but gives you the order so things don't get out of sync."
   ]
  },
  {
   "cell_type": "code",
   "execution_count": 2,
   "metadata": {},
   "outputs": [
    {
     "name": "stdout",
     "output_type": "stream",
     "text": [
      "You pressed Shift+Enter and this loop has run 0 times.\n",
      "You pressed Shift+Enter and this loop has run 1 times.\n"
     ]
    }
   ],
   "source": [
    "# This is a comment in a code cell\n",
    "\n",
    "for i in range(2):\n",
    "    print(f'You pressed Shift+Enter and this loop has run {i} times.')"
   ]
  },
  {
   "cell_type": "markdown",
   "metadata": {},
   "source": [
    "Remember the difference between command mode and edit mode, as well as keyboard shortcuts mentioned in the lecture.  Constantly having to use your mouse to navigate and run the cells can become tedious, so having these tricks at your fingertips is helpful."
   ]
  },
  {
   "cell_type": "markdown",
   "metadata": {},
   "source": [
    "Write your own for loop in the cell below to perform a basic math operation and output the result."
   ]
  },
  {
   "cell_type": "code",
   "execution_count": 4,
   "metadata": {},
   "outputs": [
    {
     "name": "stdout",
     "output_type": "stream",
     "text": [
      "asdfa\n",
      "asdfa\n",
      "asdfa\n"
     ]
    }
   ],
   "source": [
    "# Enter your for loop below\n",
    "\n",
    "for s in range(3):\n",
    "    print('asdfa')\n"
   ]
  },
  {
   "cell_type": "markdown",
   "metadata": {},
   "source": [
    "Here is an example of how to plot.  We can create a line with Numpy (which we'll get to next) and then plot it using Matplotlib (which we will see on Friday).  Simply execute the cells and the plot will appear."
   ]
  },
  {
   "cell_type": "code",
   "execution_count": 20,
   "metadata": {},
   "outputs": [],
   "source": [
    "'''This is a test function'''\n",
    "\n",
    "import numpy as np\n",
    "import matplotlib.pyplot as plt\n",
    "%matplotlib inline"
   ]
  },
  {
   "cell_type": "code",
   "execution_count": 32,
   "metadata": {},
   "outputs": [],
   "source": [
    "x = np.arange(-2,3, 0.1)\n",
    "x = 0.2*x+1\n",
    "y = -2.*y+2."
   ]
  },
  {
   "cell_type": "code",
   "execution_count": 33,
   "metadata": {},
   "outputs": [
    {
     "data": {
      "image/png": "[encoded data removed]",
      "text/plain": [
       "<Figure size 432x288 with 1 Axes>"
      ]
     },
     "metadata": {
      "needs_background": "light"
     },
     "output_type": "display_data"
    }
   ],
   "source": [
    "plt.plot(x,y);"
   ]
  },
  {
   "cell_type": "code",
   "execution_count": 51,
   "metadata": {},
   "outputs": [
    {
     "name": "stdout",
     "output_type": "stream",
     "text": [
      "[3, 1]\n"
     ]
    }
   ],
   "source": [
    "arr =[[2,1],[3,1]]\n",
    "print(arr[1])"
   ]
  },
  {
   "cell_type": "code",
   "execution_count": 59,
   "metadata": {},
   "outputs": [
    {
     "name": "stdout",
     "output_type": "stream",
     "text": [
      "[[  10   20   30]\n",
      " [ 200  300  400]\n",
      " [3000 4000 5000]]\n"
     ]
    }
   ],
   "source": [
    "a=np.array([[1,2,3],[2,3,4],[3,4,5]])\n",
    "b=np.array([10,100,1000])\n",
    "print(a*b[:,None])"
   ]
  },
  {
   "cell_type": "markdown",
   "metadata": {},
   "source": [
    "What happens if you go back up the previous cell and put a semicolon at the end of the last line?"
   ]
  },
  {
   "cell_type": "markdown",
   "metadata": {},
   "source": [
    "Fair warning - be careful that your cell executions don't get out of order!  Being able to iteratively tinker with calculations is great, but you have to be careful that your variables don't get mixed up.  Execute the cell below and then re-execute the plotting cell.  How could this cause trouble in your analysis?"
   ]
  },
  {
   "cell_type": "code",
   "execution_count": 6,
   "metadata": {},
   "outputs": [],
   "source": []
  }
 ],
 "metadata": {
  "kernelspec": {
   "display_name": "Python 3",
   "language": "python",
   "name": "python3"
  },
  "language_info": {
   "codemirror_mode": {
    "name": "ipython",
    "version": 3
   },
   "file_extension": ".py",
   "mimetype": "text/x-python",
   "name": "python",
   "nbconvert_exporter": "python",
   "pygments_lexer": "ipython3",
   "version": "3.6.8"
  }
 },
 "nbformat": 4,
 "nbformat_minor": 2
}
