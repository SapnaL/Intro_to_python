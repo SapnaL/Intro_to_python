{
 "cells": [
  {
   "cell_type": "markdown",
   "metadata": {},
   "source": [
    "# Python and Numpy Lab"
   ]
  },
  {
   "cell_type": "markdown",
   "metadata": {},
   "source": [
    "The popularity of Python can be attributed to its flexibility and the large number of open source packages that enhance its capabilities.  Here, we will practice some basic Python and get familiar with Numpy.  "
   ]
  },
  {
   "cell_type": "markdown",
   "metadata": {},
   "source": [
    "Python itself is a general purpose coding language that is easy to learn.  Readability and clarity are central tenets of writing good Python code, and the language is reliable and stable.  However, it is often criticized as being \"slow,\" which is true when compared lower level languages like C, for instance.  For large numerical calculations, this limitation on core Python can be a restriction.  Therefore, Numpy, a library that actually implements numerical operations in C, is often used instead to offer a speed-up and recover much of the performance... plus the syntax is actually simpler.  The primary goal of this lab is to get comfortable using Python, but we also want to demonstrate how useful Numpy is in accelerating your analyses.  We've included the ``%%time`` cell magic where needed to measure the time to execute your cells of code."
   ]
  },
  {
   "cell_type": "markdown",
   "metadata": {},
   "source": [
    "Let's begin by exploring how variables are assigned, in particular how values are cast as ``int`` or ``float`` since they behave differently.  First, let's make some variables.  Let's make two ``int`` values named ``a`` and ``b``, and two ``float`` values named ``c`` and ``d``."
   ]
  },
  {
   "cell_type": "markdown",
   "metadata": {},
   "source": [
    "### Basic Python"
   ]
  },
  {
   "cell_type": "code",
   "execution_count": 3,
   "metadata": {},
   "outputs": [],
   "source": [
    "a = 3\n",
    "b = 42\n",
    "\n",
    "c = 3.0\n",
    "d = 42.0"
   ]
  },
  {
   "cell_type": "markdown",
   "metadata": {},
   "source": [
    "Print ``a+b`` and ``c+d``."
   ]
  },
  {
   "cell_type": "code",
   "execution_count": 4,
   "metadata": {},
   "outputs": [
    {
     "name": "stdout",
     "output_type": "stream",
     "text": [
      "45\n",
      "45.0\n"
     ]
    }
   ],
   "source": [
    "print(a+b)\n",
    "print(c+d)"
   ]
  },
  {
   "cell_type": "markdown",
   "metadata": {},
   "source": [
    "Now, let's divide these same numbers."
   ]
  },
  {
   "cell_type": "code",
   "execution_count": 5,
   "metadata": {},
   "outputs": [
    {
     "name": "stdout",
     "output_type": "stream",
     "text": [
      "14.0\n",
      "14.0\n"
     ]
    }
   ],
   "source": [
    "print(b/a)\n",
    "print(d/c)"
   ]
  },
  {
   "cell_type": "markdown",
   "metadata": {},
   "source": [
    "Let's practice working with dictionaries by storing these values with their name as the key and then retrieving them."
   ]
  },
  {
   "cell_type": "code",
   "execution_count": 6,
   "metadata": {},
   "outputs": [],
   "source": [
    "# store values here\n",
    "\n",
    "my_dict = {'a':a, 'b':b, 'c':c, 'd':d}"
   ]
  },
  {
   "cell_type": "code",
   "execution_count": 9,
   "metadata": {},
   "outputs": [
    {
     "name": "stdout",
     "output_type": "stream",
     "text": [
      "3\n",
      "42\n"
     ]
    }
   ],
   "source": [
    "# retrieve values here\n",
    "\n",
    "print(my_dict['a'])\n",
    "print(my_dict['b'])"
   ]
  },
  {
   "cell_type": "markdown",
   "metadata": {},
   "source": [
    "### Python Loops"
   ]
  },
  {
   "cell_type": "markdown",
   "metadata": {},
   "source": [
    "These have been simple calculations and in real applications we have process much more than a few numbers at a time.  We've created an array of \"data\" for you to process.  Create a for loop to iterate through the list that multiplies it by 2 and subtracts 3.  Save it to the empty list (``proc_data``) using ``.append()``.  To check that it is working as it should, look at the first 5 entries.  The ``%%time`` magic will time the cell execution."
   ]
  },
  {
   "cell_type": "code",
   "execution_count": 12,
   "metadata": {},
   "outputs": [
    {
     "name": "stdout",
     "output_type": "stream",
     "text": [
      "[3.0, 5.0, 7.0, 9.0, 11.0]\n",
      "CPU times: user 164 ms, sys: 10.1 ms, total: 174 ms\n",
      "Wall time: 173 ms\n"
     ]
    }
   ],
   "source": [
    "%%time\n",
    "\n",
    "data = range(1e6)\n",
    "proc_data = []\n",
    "\n",
    "# Your code goes here\n",
    "for val in data:\n",
    "    new_val = 2.*val+3.\n",
    "    proc_data.append(new_val)\n",
    "    \n",
    "print(proc_data[:5])"
   ]
  },
  {
   "cell_type": "markdown",
   "metadata": {},
   "source": [
    "### Numpy Calculations"
   ]
  },
  {
   "cell_type": "markdown",
   "metadata": {},
   "source": [
    "How does Numpy compare?  First, import the module."
   ]
  },
  {
   "cell_type": "code",
   "execution_count": 13,
   "metadata": {},
   "outputs": [],
   "source": [
    "import numpy as np"
   ]
  },
  {
   "cell_type": "markdown",
   "metadata": {},
   "source": [
    "Now, do the same operation as before (hint it only takes one short line of code).  Again, print off the first 5 entries and checkout the time to see the speed-up."
   ]
  },
  {
   "cell_type": "code",
   "execution_count": 15,
   "metadata": {},
   "outputs": [
    {
     "name": "stdout",
     "output_type": "stream",
     "text": [
      "[ 3.  5.  7.  9. 11.]\n",
      "CPU times: user 14.3 ms, sys: 3.07 ms, total: 17.4 ms\n",
      "Wall time: 6.58 ms\n"
     ]
    }
   ],
   "source": [
    "%%time\n",
    "\n",
    "data = np.arange(1e6)\n",
    "\n",
    "# Your code goes here\n",
    "proc_data = 2.*data+3.\n",
    "\n",
    "print(proc_data[:5])"
   ]
  },
  {
   "cell_type": "markdown",
   "metadata": {},
   "source": [
    "### Slicing and Masking Numpy Arrays "
   ]
  },
  {
   "cell_type": "markdown",
   "metadata": {},
   "source": [
    "Being able to manipulate and extract data from Numpy arrays is an important skill for effectively doing analysis in Python.  Let's consider the following 2D array, initialized to:"
   ]
  },
  {
   "cell_type": "code",
   "execution_count": 34,
   "metadata": {},
   "outputs": [
    {
     "name": "stdout",
     "output_type": "stream",
     "text": [
      "[[0.2214418  0.44836149 0.29246628 0.86303188 0.29546487]\n",
      " [0.56926067 0.64908953 0.91493804 0.6948288  0.32511917]\n",
      " [0.86064031 0.64800502 0.45651939 0.09780519 0.46871009]\n",
      " [0.22567767 0.81827667 0.92711933 0.45929054 0.20265769]\n",
      " [0.67379738 0.60825056 0.79439447 0.61328036 0.20413172]]\n"
     ]
    }
   ],
   "source": [
    "array = np.random.rand(5,5)\n",
    "print(array)"
   ]
  },
  {
   "cell_type": "markdown",
   "metadata": {},
   "source": [
    "Let's pull out the first element of the array:"
   ]
  },
  {
   "cell_type": "code",
   "execution_count": 31,
   "metadata": {},
   "outputs": [
    {
     "name": "stdout",
     "output_type": "stream",
     "text": [
      "0.7548176099348337\n"
     ]
    }
   ],
   "source": [
    "first_element = array[0,0]\n",
    "print(first_element)"
   ]
  },
  {
   "cell_type": "markdown",
   "metadata": {},
   "source": [
    "What is the first row?"
   ]
  },
  {
   "cell_type": "code",
   "execution_count": 32,
   "metadata": {},
   "outputs": [
    {
     "name": "stdout",
     "output_type": "stream",
     "text": [
      "[0.75481761 0.1051799  0.51636522 0.71510762 0.7296728 ]\n"
     ]
    }
   ],
   "source": [
    "first_row = array[0,:]\n",
    "print(first_row)"
   ]
  },
  {
   "cell_type": "markdown",
   "metadata": {},
   "source": [
    "Let's finish by filtering out all values less than 0.5.  First, define a \"mask\" to the array.  Then, filter the values by applying the mask to ``array``."
   ]
  },
  {
   "cell_type": "code",
   "execution_count": 36,
   "metadata": {},
   "outputs": [
    {
     "name": "stdout",
     "output_type": "stream",
     "text": [
      "[0.86303188 0.56926067 0.64908953 0.91493804 0.6948288  0.86064031\n",
      " 0.64800502 0.81827667 0.92711933 0.67379738 0.60825056 0.79439447\n",
      " 0.61328036]\n"
     ]
    }
   ],
   "source": [
    "mask = array > 0.5\n",
    "masked_array = array[mask]\n",
    "print(masked_array)"
   ]
  }
 ],
 "metadata": {
  "kernelspec": {
   "display_name": "Python (drewhogg)",
   "language": "python",
   "name": "drewhogg"
  },
  "language_info": {
   "codemirror_mode": {
    "name": "ipython",
    "version": 3
   },
   "file_extension": ".py",
   "mimetype": "text/x-python",
   "name": "python",
   "nbconvert_exporter": "python",
   "pygments_lexer": "ipython3",
   "version": "3.7.2"
  }
 },
 "nbformat": 4,
 "nbformat_minor": 2
}
